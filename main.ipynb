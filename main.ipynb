{
 "cells": [
  {
   "cell_type": "markdown",
   "metadata": {},
   "source": [
    "\n",
    "# 作业四：撰写项目README并完成开源\n",
    "\n",
    "## 评分标准\n",
    "1.格式规范（有至少3个小标题，内容完整），一个小标题5分，最高20分\n",
    "\n",
    "2.图文并茂，一张图5分，最高20分\n",
    "\n",
    "3.有可运行的代码，且代码内有详细注释，20分\n",
    "\n",
    "4.代码开源到github，15分\n",
    "\n",
    "5.代码同步到gitee，5分\n",
    "\n",
    "## 作业目的\n",
    "使用MarkDown撰写项目并且学会使用开源工具。\n",
    "\n",
    "\n",
    "\n",
    "## 参考资料：\n",
    "- [如何写好一篇高质量的精选项目？](https://aistudio.baidu.com/aistudio/projectdetail/2175889)"
   ]
  },
  {
   "cell_type": "markdown",
   "metadata": {},
   "source": [
    "# 作业内容\n",
    "把自己的项目描述放在对应区域中，形成一个完整流程项目，并且在最后声明自己项目的github和gitee链接\n",
    "\n",
    "\n",
    "\n",
    "\n",
    "\n",
    "\n",
    "\n"
   ]
  },
  {
   "cell_type": "markdown",
   "metadata": {},
   "source": [
    "## 一、项目背景介绍\n",
    "该部分主要向大家介绍你的项目目前社会研究情况，研究热度，或者用简短精炼的语言让大家理解为什么要做出这个项目"
   ]
  },
  {
   "cell_type": "markdown",
   "metadata": {},
   "source": [
    "## 二、数据介绍\n",
    "该部分主要想大家介绍你的数据集基本情况，比如数据集的名字、来源,或者是图像的数量，类别，最后在把随机一张图像通过代码展示"
   ]
  },
  {
   "cell_type": "markdown",
   "metadata": {},
   "source": [
    "## 三、模型介绍\n",
    "想写好一个好的精品项目，项目的内容必须包含理论内容和实践相互结合，该部分主要是理论部分，向大家介绍一下你的模型原理等内容。"
   ]
  },
  {
   "cell_type": "markdown",
   "metadata": {},
   "source": [
    "## 四、模型训练\n",
    "该部分主要是实践部分，也是相对来说话费时间最长的一部分，该部分主要展示模型训练的内容，同时向大家讲解模型参数的设置"
   ]
  },
  {
   "cell_type": "markdown",
   "metadata": {},
   "source": [
    "## 五、模型评估\n",
    "该部分主要是对训练好的模型进行评估，可以是用验证集进行评估，或者是直接预测结果。评估结果和预测结果尽量展示出来，增加吸引力。"
   ]
  },
  {
   "cell_type": "markdown",
   "metadata": {},
   "source": [
    "## 六、总结与升华\n",
    "接近到项目的尾声时，需要进行主题的升华，也就是说明本项目的亮点，以及不足之处，后续应该如何改进等"
   ]
  },
  {
   "cell_type": "markdown",
   "metadata": {},
   "source": [
    "## 七、个人总结\n",
    "该部分也是项目最后一阶段，需要作者介绍自己，以及作者的兴趣方向等，最后在下面附上作者的个人主页链接"
   ]
  },
  {
   "cell_type": "markdown",
   "metadata": {},
   "source": [
    "## 提交链接\n",
    "aistudio链接：https://aistudio.baidu.com/ibdcpu6/user/1977289/3579077/notebooks/3579077.ipynb\n",
    "\n",
    "github链接：\n",
    "\n",
    "gitee链接："
   ]
  }
 ],
 "metadata": {
  "kernelspec": {
   "display_name": "Python 3",
   "language": "python",
   "name": "py35-paddle1.2.0"
  },
  "language_info": {
   "codemirror_mode": {
    "name": "ipython",
    "version": 3
   },
   "file_extension": ".py",
   "mimetype": "text/x-python",
   "name": "python",
   "nbconvert_exporter": "python",
   "pygments_lexer": "ipython3",
   "version": "3.7.4"
  }
 },
 "nbformat": 4,
 "nbformat_minor": 4
}
